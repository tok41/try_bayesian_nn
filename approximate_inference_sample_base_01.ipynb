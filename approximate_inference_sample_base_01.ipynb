{
 "cells": [
  {
   "cell_type": "code",
   "execution_count": 1,
   "metadata": {},
   "outputs": [],
   "source": [
    "import sys, os\n",
    "import numpy as np\n",
    "import pandas as pd\n",
    "import scipy.stats as stats\n",
    "import scipy\n",
    "from scipy.special import gammaln\n",
    "from tqdm import tqdm\n",
    "\n",
    "import seaborn as sns\n",
    "import matplotlib.pyplot as plt\n",
    "sns.set()"
   ]
  },
  {
   "cell_type": "code",
   "execution_count": 2,
   "metadata": {},
   "outputs": [],
   "source": [
    "np.random.seed(123)"
   ]
  },
  {
   "cell_type": "markdown",
   "metadata": {},
   "source": [
    "# 近似ベイズ推論：サンプリングに基づく推論手法\n",
    "- パラメータの推論が解析的に行えないケースがある\n",
    "  - e.g. モデルが複雑、非線形、共役関係にない分布でモデルを設計\n",
    "- サンプリングに基づく推論：求めたい分布$p(\\Theta | \\mathcal{D})$から何らかの方法でサンプルを得ることで、その分布の統計的性質をしる\n",
    "\n",
    "ここでは、サンプリングに基づく近似推論の一つの例として、サンプリングをベースにして積分を計算するための「単純モンテカルロ法」、そして、解析的に分布を得ることができない場合に知りたい分布からサンプルを得るための「棄却サンプリング」を実装する。"
   ]
  },
  {
   "cell_type": "markdown",
   "metadata": {},
   "source": [
    "## 単純モンテカルロ法(simple Monte Carlo method)\n",
    "分布$p(\\mathbf{z})$に関して、ある関数$f(\\mathbf{z})$の期待値$\\int f(\\mathbf{z})p(\\mathbf{z})d\\mathbf{z}$を考える。\n",
    "\n",
    "分布$p(\\mathbf{z})$からのT個のサンプルに基づいて近似する。\n",
    "\n",
    "$$\n",
    "\\int f(\\mathbf{z})p(\\mathbf{z})d\\mathbf{z} \\approx \\frac{1}{T}\\sum^{T}_{t=1} f(\\mathbf{z}^{(t)})\n",
    "$$\n",
    "\n",
    "ここで、$\\mathbf{z}^{(t)}$は分布$p(\\mathbf{z})$からのt番目のサンプルを表す。"
   ]
  },
  {
   "cell_type": "markdown",
   "metadata": {},
   "source": [
    "### 問題設定\n",
    "N個のデータを観測して、パラメータ$\\theta$を持つモデル$p(\\mathbf{X}, \\theta)$の周辺尤度（モデルエビデンス）$p(\\mathbf{X})$を単純モンテカルロ法で算出してみる。\n",
    "\n",
    "$$\n",
    "p(\\mathbf{X}) = \\int p(\\theta) p(x_n | \\theta) d\\theta \\approx \\frac{1}{T}\\sum^{T}_{t=1}\\prod^{N}_{n=1} p(x_n | \\theta^{(t)})\n",
    "$$\n",
    "\n",
    "ここで、シンプルな例として、データ$\\mathbf{X}$が従う分布としてベルヌーイ分布を設定する。\n",
    "パラメータ$\\theta$はベータ分布に従うとする。\n",
    "\n",
    "$$\n",
    "\\begin{eqnarray}\n",
    "    p(x_n | \\theta) &=& \\mathrm{Bern}(x | \\theta) \\\\\n",
    "    p(\\theta) &=& \\mathrm{Beta}(a, b)\n",
    "\\end{eqnarray}\n",
    "$$\n",
    "\n",
    "ベルヌーイ分布とベータ分布は共役な関係なので、厳密な解を得ることが可能である。なお途中式についてはブログ本編を参照のこと。\n",
    "\n",
    "$$\n",
    "\\begin{eqnarray}\n",
    "    p(X) = \\frac{\\Gamma(a+b)\\Gamma(m+a)\\Gamma(N-m+b)}{\\Gamma(a)\\Gamma(b)\\Gamma(a+b+N)}\n",
    "\\end{eqnarray}\n",
    "$$"
   ]
  },
  {
   "cell_type": "code",
   "execution_count": 3,
   "metadata": {},
   "outputs": [
    {
     "name": "stdout",
     "output_type": "stream",
     "text": [
      "[0 0 0 0 0 0 1 0 0 0 0 0 0 0 0 0 0 0 0 0]\n"
     ]
    }
   ],
   "source": [
    "# テストデータ\n",
    "theta = 0.1\n",
    "N = 20\n",
    "X = stats.bernoulli.rvs(p=theta, size=N)\n",
    "print(X)"
   ]
  },
  {
   "cell_type": "code",
   "execution_count": 4,
   "metadata": {},
   "outputs": [
    {
     "data": {
      "image/png": "[encoded data removed]",
      "text/plain": [
       "<Figure size 432x216 with 1 Axes>"
      ]
     },
     "metadata": {
      "needs_background": "light"
     },
     "output_type": "display_data"
    }
   ],
   "source": [
    "# パラメータの分布\n",
    "a = 1.0\n",
    "b = 1.0\n",
    "ts = np.linspace(0, 1, 1000)\n",
    "pz = stats.beta(a=a, b=b)\n",
    "ys = pz.pdf(x=ts)\n",
    "\n",
    "fig = plt.figure(figsize=(6, 3))\n",
    "ax = fig.subplots(1,1)\n",
    "ax.plot(ts, ys)\n",
    "ret = ax.set_xlabel('parameter $\\\\theta$')\n",
    "ret = ax.set_ylabel('$p(\\\\theta)$')"
   ]
  },
  {
   "cell_type": "code",
   "execution_count": 5,
   "metadata": {},
   "outputs": [
    {
     "data": {
      "image/png": "[encoded data removed]",
      "text/plain": [
       "<Figure size 432x216 with 1 Axes>"
      ]
     },
     "metadata": {
      "needs_background": "light"
     },
     "output_type": "display_data"
    }
   ],
   "source": [
    "zs = np.linspace(0.0, 1.0, 1000)\n",
    "liks = list(map(lambda z:np.prod(stats.bernoulli.pmf(k=X, p=z)), zs))\n",
    "\n",
    "fig = plt.figure(figsize=(6, 3))\n",
    "ax = fig.subplots(1,1)\n",
    "ax.plot(zs, liks)\n",
    "ret = ax.set_xlabel('parameter $\\\\theta$')\n",
    "ret = ax.set_ylabel('Likelihood $p(X | \\\\theta)$')"
   ]
  },
  {
   "cell_type": "markdown",
   "metadata": {},
   "source": [
    "### 解析解"
   ]
  },
  {
   "cell_type": "code",
   "execution_count": 6,
   "metadata": {},
   "outputs": [
    {
     "name": "stdout",
     "output_type": "stream",
     "text": [
      "Exact solution of p(X) : 0.0023809523809523833\n"
     ]
    }
   ],
   "source": [
    "# 解析解\n",
    "m = sum(X)\n",
    "ln_px_c = gammaln(a+b)+gammaln(m+a)+gammaln(N-m+b)-gammaln(a)-gammaln(b)-gammaln(a+b+N)\n",
    "px_c = np.exp(ln_px_c)\n",
    "print('Exact solution of p(X) :', px_c)"
   ]
  },
  {
   "cell_type": "markdown",
   "metadata": {},
   "source": [
    "### 近似推論"
   ]
  },
  {
   "cell_type": "code",
   "execution_count": 7,
   "metadata": {},
   "outputs": [
    {
     "name": "stdout",
     "output_type": "stream",
     "text": [
      "Approximate value of p(X) : 0.002339328667535013\n"
     ]
    }
   ],
   "source": [
    "# 周辺尤度p(X)の算出\n",
    "# 近似解の関数の戻り値として、サンプル系列も欲しいかも\n",
    "def approximate_marginal_likelihood(pz, sample_size=100000):\n",
    "    \"\"\"\n",
    "    get approximate solution for marginal likelihood\n",
    "    Args\n",
    "        pz : distribution of parameter\n",
    "    Returns\n",
    "        px : approximate solution of marginal likelihood\n",
    "    \"\"\"\n",
    "    zs = pz.rvs(size=sample_size)\n",
    "    px = np.sum(list(map(lambda z:np.prod(stats.bernoulli.pmf(k=X, p=z)), zs)))/sample_size\n",
    "    return px\n",
    "\n",
    "a = 1.0\n",
    "b = 1.0\n",
    "pz = stats.beta(a=a, b=b)\n",
    "px = approximate_marginal_likelihood(pz, sample_size=10000)\n",
    "print('Approximate value of p(X) :', px)"
   ]
  },
  {
   "cell_type": "code",
   "execution_count": 8,
   "metadata": {},
   "outputs": [
    {
     "name": "stdout",
     "output_type": "stream",
     "text": [
      "CPU times: user 1min 7s, sys: 459 ms, total: 1min 7s\n",
      "Wall time: 1min 8s\n"
     ]
    },
    {
     "data": {
      "image/png": "[encoded data removed]",
      "text/plain": [
       "<Figure size 504x432 with 3 Axes>"
      ]
     },
     "metadata": {
      "needs_background": "light"
     },
     "output_type": "display_data"
    }
   ],
   "source": [
    "%%time\n",
    "sss = [100, 500, 1000]\n",
    "\n",
    "fig = plt.figure(figsize=(7, 2*len(sss)))\n",
    "ax = fig.subplots(len(sss),1, sharex=True)\n",
    "\n",
    "cnt = 0\n",
    "pxs_lst = []\n",
    "for ss in sss:\n",
    "    pxs = [approximate_marginal_likelihood(pz, sample_size=ss) for i in np.arange(1, 500)]\n",
    "    pxs_lst.append(pxs)\n",
    "    ax[cnt].hist(pxs, label='sample_size=%s'%ss)\n",
    "    ax[cnt].axvline(px_c, color='#AA0055')\n",
    "    ax[cnt].legend()\n",
    "    cnt+=1\n"
   ]
  },
  {
   "cell_type": "markdown",
   "metadata": {},
   "source": [
    "ということで、こういう簡単な近似でも解析解に近い値が得られることがわかった。\n",
    "また、サンプルサイズを増やせば、近似精度（近似値のばらつき）が小さくなることもわかった。\n",
    "\n",
    "しかし、計算時間が結構かかる。"
   ]
  },
  {
   "cell_type": "markdown",
   "metadata": {},
   "source": [
    "## 棄却サンプリング\n",
    "性質の不明な分布$p(\\mathbf{x})$からサンプル$z^{(l)}$を得るためのシンプルなアルゴリズム。\n"
   ]
  },
  {
   "cell_type": "markdown",
   "metadata": {},
   "source": [
    "### アルゴリズム\n",
    "- サンプルを得たい目標分布 : $p(z)$\n",
    "- 目標分布に比例する正規化されていない分布 : $p(z) = \\frac{1}{Z_p}\\tilde{p}(z)$\n",
    "- 以下のアルゴリズムでサンプルを生成\n",
    "  1. 仮の分布として提案分布$q(z)$を作成する\n",
    "  2. 定数kを任意のzに対して$kq(z) \\ge \\tilde{p}(z)$が成立するように定める\n",
    "  3. サンプル$z^{(t)}$を提案分布$q(z)$から取得する\n",
    "  4. サンプル$\\tilde{u}$を区間$[0,kq(z^{(t)})]$の一様分布$\\mathrm{Uni}(u|0,kq(z^{(t)}))$から取得する\n",
    "  5. $\\tilde{u} > \\tilde{p}(z^{(t)})$ならばサンプル$z^{(t)}$を棄却する。$\\tilde{u} \\le \\tilde{p}(z^{(t)})$ならばサンプル$z^{(t)}$を受容する\n",
    "\n",
    "ここで、正規化されていない分布$\\tilde{p}(x)$とは、事後分布においては尤度関数と事前分布の積を意味する。"
   ]
  },
  {
   "cell_type": "markdown",
   "metadata": {},
   "source": [
    "### 問題設定\n",
    "事後分布$p(\\Theta | \\mathcal{D})$を棄却サンプリングで近似推論する例を考える。\n",
    "\n",
    "先のモンテカルロ積分の問題と同様に、データ$\\mathbf{X}$が従う分布としてベルヌーイ分布を設定する。\n",
    "パラメータ$\\theta$はベータ分布に従うとする。\n",
    "N個のデータ$X=\\{x_1, x=2, \\cdots, x_N\\}$を観測した場合のパラメータ$\\theta$の事後分布$p(\\theta | X)$推論する。\n"
   ]
  },
  {
   "cell_type": "markdown",
   "metadata": {},
   "source": [
    "### モデル\n",
    "真の分布\n",
    "\n",
    "$$\n",
    "p(\\theta |X) = \\frac{p(X|\\theta)p(\\theta)}{p(X)} \\propto p(X|\\theta)p(\\theta)\n",
    "$$\n",
    "\n",
    "周辺尤度$p(X)$はモンテカルロ積分のところで出てきたように、積分をする必要があるので計算が大変。\n",
    "しかし、これは$\\theta$が関係しない項なので、分子の要素が求めたい事後分布$p(\\theta | X)$に比例する。\n",
    "\n",
    "$$\n",
    "\\tilde{p}(X) = p(X|\\theta)p(\\theta)\n",
    "$$\n",
    "\n",
    "次に、提案分布$q(x)$と定数kを設計する。\n",
    "\n",
    "- $q(x)$には、一様分布を利用してみる\n",
    "- $p(x_i|\\theta)$はベルヌーイ分布を設定するため、最大値は1。$p(\\theta)$は$\\mathrm{Beta}(a=1, b=1)$を設定するため、これも最大値は1。よって、$kq(z) \\ge \\tilde{p}(z)$が成立するために、k=1とすれば十分である。"
   ]
  },
  {
   "cell_type": "markdown",
   "metadata": {},
   "source": [
    "### 実装"
   ]
  },
  {
   "cell_type": "code",
   "execution_count": 9,
   "metadata": {},
   "outputs": [
    {
     "name": "stdout",
     "output_type": "stream",
     "text": [
      "[0 1 0 0 0 0 0 1 0 0 0 0 0 1 0 0 0 0 0 0 0 0 0 0 0 0 0 0 0 0 0 0 1 0 0 1 0\n",
      " 0 0 0 0 0 0 0 0 0 0 0 0 0 0 0 0 0 0 0 0 0 1 0 0 0 0 1 0 0 0 1 0 0 0 0 0 0\n",
      " 0 0 0 0 0 1 0 0 0 0 1 0 1 0 0 0 0 0 0 0 0 1 0 0 0 0]\n"
     ]
    }
   ],
   "source": [
    "# テストデータ\n",
    "theta = 0.1\n",
    "N = 100\n",
    "X = stats.bernoulli.rvs(p=theta, size=N)\n",
    "print(X)"
   ]
  },
  {
   "cell_type": "markdown",
   "metadata": {},
   "source": [
    "#### 解析解"
   ]
  },
  {
   "cell_type": "code",
   "execution_count": 10,
   "metadata": {},
   "outputs": [
    {
     "data": {
      "text/plain": [
       "<matplotlib.legend.Legend at 0x1290d8f60>"
      ]
     },
     "execution_count": 10,
     "metadata": {},
     "output_type": "execute_result"
    },
    {
     "data": {
      "image/png": "[encoded data removed]",
      "text/plain": [
       "<Figure size 432x288 with 1 Axes>"
      ]
     },
     "metadata": {
      "needs_background": "light"
     },
     "output_type": "display_data"
    }
   ],
   "source": [
    "# 解析解\n",
    "a_hat = a + np.sum(X)\n",
    "b_hat = b + N - np.sum(X)\n",
    "analysis_dist = stats.beta(a=a_hat, b=b_hat)\n",
    "ts = np.linspace(0, 1, 1000)\n",
    "tt = analysis_dist.pdf(ts)\n",
    "\n",
    "bins = np.arange(0, 1.0, 0.01)\n",
    "\n",
    "fig = plt.figure(figsize=(6, 4))\n",
    "ax = fig.subplots(1,1)\n",
    "ax.plot(ts, tt, color='#ff6347', label='Exact solution')\n",
    "ax.vlines(theta, 0, max(tt), label='setting')\n",
    "ax.set_xlabel('$\\\\theta$')\n",
    "plt.legend()"
   ]
  },
  {
   "cell_type": "markdown",
   "metadata": {},
   "source": [
    "二つの方法がある\n",
    "- ベルヌーイ分布でそのまま尤度を計算すると、席の部分で値が小さくなりすぎる\n",
    "  - 定数をかけても比例することには変わりないので、二項係数をかける\n",
    "- ベルヌーイ分布の尤度関数は二項分布になるので、二項分布を尤度関数に用いる\n",
    "\n",
    "結局、どっちも同じ。"
   ]
  },
  {
   "cell_type": "markdown",
   "metadata": {},
   "source": [
    "#### ベルヌーイ分布で尤度を計算"
   ]
  },
  {
   "cell_type": "code",
   "execution_count": 11,
   "metadata": {},
   "outputs": [
    {
     "name": "stderr",
     "output_type": "stream",
     "text": [
      "100%|█████████▉| 499/500 [00:23<00:00, 21.02it/s]"
     ]
    },
    {
     "name": "stdout",
     "output_type": "stream",
     "text": [
      "over iter\n",
      "CPU times: user 23.1 s, sys: 1.28 s, total: 24.4 s\n",
      "Wall time: 23.7 s\n"
     ]
    },
    {
     "name": "stderr",
     "output_type": "stream",
     "text": [
      "\n"
     ]
    }
   ],
   "source": [
    "%%time\n",
    "proposal_dist = stats.uniform(loc=0, scale=1)\n",
    "k = 1.0\n",
    "a=1.0\n",
    "b=1.0\n",
    "p_tilde_lik = stats.bernoulli\n",
    "p_tilde_prior = stats.beta(a=a, b=b)\n",
    "\n",
    "n_sample = 500\n",
    "zs_1 = []\n",
    "cnt=0\n",
    "\n",
    "pbar = tqdm(total=n_sample)\n",
    "while len(zs_1) < n_sample:\n",
    "    z = proposal_dist.rvs()\n",
    "    q_z = proposal_dist.pdf(z)\n",
    "    u = stats.uniform.rvs(loc=0, scale=k*q_z)\n",
    "    lik = scipy.special.comb(N, sum(X)) * np.prod(p_tilde_lik.pmf(k=X, p=z))\n",
    "    prior = p_tilde_prior.pdf(z)\n",
    "    p_tilde = lik * prior\n",
    "    if u <= p_tilde:\n",
    "        zs_1.append(z)\n",
    "        pbar.update(1)\n",
    "    cnt+=1\n",
    "    if cnt>n_sample*100:\n",
    "        print('over iter')\n",
    "        break\n",
    "pbar.close()"
   ]
  },
  {
   "cell_type": "code",
   "execution_count": 12,
   "metadata": {},
   "outputs": [
    {
     "data": {
      "text/plain": [
       "<matplotlib.legend.Legend at 0x1292d9f98>"
      ]
     },
     "execution_count": 12,
     "metadata": {},
     "output_type": "execute_result"
    },
    {
     "data": {
      "image/png": "[encoded data removed]",
      "text/plain": [
       "<Figure size 432x288 with 1 Axes>"
      ]
     },
     "metadata": {
      "needs_background": "light"
     },
     "output_type": "display_data"
    }
   ],
   "source": [
    "bins = np.arange(0, 1.0, 0.01)\n",
    "\n",
    "fig = plt.figure(figsize=(6, 4))\n",
    "ax = fig.subplots(1,1)\n",
    "\n",
    "sns.distplot(zs_1, bins=bins, ax=ax, label='approximate')\n",
    "ax.plot(ts, tt, color='#ff6347', label='Exact solution')\n",
    "ax.vlines(theta, 0, max(tt), label='setting')\n",
    "ax.set_xlabel('$\\\\theta$')\n",
    "plt.legend()\n"
   ]
  },
  {
   "cell_type": "markdown",
   "metadata": {},
   "source": [
    "#### 二項分布で尤度を計算"
   ]
  },
  {
   "cell_type": "code",
   "execution_count": 13,
   "metadata": {},
   "outputs": [
    {
     "name": "stderr",
     "output_type": "stream",
     "text": [
      "100%|██████████| 500/500 [00:23<00:00, 21.28it/s]"
     ]
    },
    {
     "name": "stdout",
     "output_type": "stream",
     "text": [
      "CPU times: user 22.8 s, sys: 3.52 s, total: 26.3 s\n",
      "Wall time: 23.5 s\n"
     ]
    },
    {
     "name": "stderr",
     "output_type": "stream",
     "text": [
      "\n"
     ]
    }
   ],
   "source": [
    "%%time\n",
    "proposal_dist = stats.uniform(loc=0, scale=1)\n",
    "k = 1.0\n",
    "a=1.0\n",
    "b=1.0\n",
    "p_tilde_lik = stats.binom\n",
    "p_tilde_prior = stats.beta(a=a, b=b)\n",
    "\n",
    "cnt=0\n",
    "n_sample = 500\n",
    "zs_2 = []\n",
    "i = 0\n",
    "pbar = tqdm(total=n_sample)\n",
    "while i < n_sample:\n",
    "    z = proposal_dist.rvs()\n",
    "    q_z = proposal_dist.pdf(z)\n",
    "    u = stats.uniform.rvs(loc=0, scale=k*q_z)\n",
    "    lik = p_tilde_lik.pmf(np.sum(X), N, p=z)\n",
    "    prior = p_tilde_prior.pdf(z)\n",
    "    if u <= lik*prior:\n",
    "        zs_2.append(z)\n",
    "        i += 1\n",
    "        pbar.update(1)\n",
    "    cnt+=1\n",
    "    if cnt>n_sample*100:\n",
    "        print('over iter')\n",
    "        break\n",
    "pbar.close()"
   ]
  },
  {
   "cell_type": "code",
   "execution_count": 14,
   "metadata": {},
   "outputs": [
    {
     "data": {
      "text/plain": [
       "<matplotlib.legend.Legend at 0x12b438208>"
      ]
     },
     "execution_count": 14,
     "metadata": {},
     "output_type": "execute_result"
    },
    {
     "data": {
      "image/png": "[encoded data removed]",
      "text/plain": [
       "<Figure size 432x288 with 1 Axes>"
      ]
     },
     "metadata": {
      "needs_background": "light"
     },
     "output_type": "display_data"
    }
   ],
   "source": [
    "bins = np.arange(0, 1.0, 0.01)\n",
    "\n",
    "fig = plt.figure(figsize=(6, 4))\n",
    "ax = fig.subplots(1,1)\n",
    "\n",
    "sns.distplot(zs_2, bins=bins, ax=ax, label='approximate')\n",
    "ax.plot(ts, tt, color='#ff6347', label='Exact solution')\n",
    "ax.vlines(theta, 0, max(tt), label='setting')\n",
    "ax.set_xlabel('$\\\\theta$')\n",
    "plt.legend()\n"
   ]
  }
 ],
 "metadata": {
  "kernelspec": {
   "display_name": "Python 3",
   "language": "python",
   "name": "python3"
  },
  "language_info": {
   "codemirror_mode": {
    "name": "ipython",
    "version": 3
   },
   "file_extension": ".py",
   "mimetype": "text/x-python",
   "name": "python",
   "nbconvert_exporter": "python",
   "pygments_lexer": "ipython3",
   "version": "3.7.3"
  },
  "toc-autonumbering": true
 },
 "nbformat": 4,
 "nbformat_minor": 2
}
